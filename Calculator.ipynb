{
  "nbformat": 4,
  "nbformat_minor": 0,
  "metadata": {
    "colab": {
      "provenance": [],
      "authorship_tag": "ABX9TyOthaAt/s+mN4JC2zkWzJnh",
      "include_colab_link": true
    },
    "kernelspec": {
      "name": "python3",
      "display_name": "Python 3"
    },
    "language_info": {
      "name": "python"
    }
  },
  "cells": [
    {
      "cell_type": "markdown",
      "metadata": {
        "id": "view-in-github",
        "colab_type": "text"
      },
      "source": [
        "<a href=\"https://colab.research.google.com/github/u1y2k3t4/Calculator/blob/main/Calculator.ipynb\" target=\"_parent\"><img src=\"https://colab.research.google.com/assets/colab-badge.svg\" alt=\"Open In Colab\"/></a>"
      ]
    },
    {
      "cell_type": "code",
      "source": [
        "!rm /root/.ngrok2/ngrok.yml\n"
      ],
      "metadata": {
        "colab": {
          "base_uri": "https://localhost:8080/"
        },
        "id": "AU-VUaX-F6SI",
        "outputId": "44d4b005-102a-4dab-e3ae-85a1096d0f93"
      },
      "execution_count": null,
      "outputs": [
        {
          "output_type": "stream",
          "name": "stdout",
          "text": [
            "rm: cannot remove '/root/.ngrok2/ngrok.yml': No such file or directory\n"
          ]
        }
      ]
    },
    {
      "cell_type": "code",
      "source": [
        "!ngrok config add-authtoken 2yFzCAN0DqH8c87Brstd1eeyt7v_3vsN2EECjsp7BPFmHS2Di\n"
      ],
      "metadata": {
        "colab": {
          "base_uri": "https://localhost:8080/"
        },
        "id": "N7HE6teSF7uF",
        "outputId": "213194ef-52cb-42e0-a7f5-1226906332be"
      },
      "execution_count": null,
      "outputs": [
        {
          "output_type": "stream",
          "name": "stdout",
          "text": [
            "Authtoken saved to configuration file: /root/.config/ngrok/ngrok.yml\n"
          ]
        }
      ]
    },
    {
      "cell_type": "code",
      "source": [
        "!pip install streamlit pyngrok --quiet"
      ],
      "metadata": {
        "id": "LoNATWSfGAsQ"
      },
      "execution_count": null,
      "outputs": []
    },
    {
      "cell_type": "code",
      "source": [
        "calculator_code = \"\"\"\n",
        "import streamlit as st\n",
        "\n",
        "st.title(\"🧮 Simple Calculator\")\n",
        "\n",
        "num1 = st.number_input(\"Enter first number\", value=0.0)\n",
        "num2 = st.number_input(\"Enter second number\", value=0.0)\n",
        "operation = st.selectbox(\"Operation\", [\"Add\", \"Subtract\", \"Multiply\", \"Divide\"])\n",
        "\n",
        "if st.button(\"Calculate\"):\n",
        "    if operation == \"Add\":\n",
        "        result = num1 + num2\n",
        "    elif operation == \"Subtract\":\n",
        "        result = num1 - num2\n",
        "    elif operation == \"Multiply\":\n",
        "        result = num1 * num2\n",
        "    elif operation == \"Divide\":\n",
        "        if num2 != 0:\n",
        "            result = num1 / num2\n",
        "        else:\n",
        "            result = \"Cannot divide by zero\"\n",
        "    st.success(f\"Result: {result}\")\n",
        "\"\"\""
      ],
      "metadata": {
        "id": "OGulbJ9iGG6f"
      },
      "execution_count": null,
      "outputs": []
    },
    {
      "cell_type": "code",
      "source": [
        "with open(\"calculator_app.py\", \"w\") as f:\n",
        "    f.write(calculator_code)\n"
      ],
      "metadata": {
        "id": "wdWJ-eoWGNdc"
      },
      "execution_count": null,
      "outputs": []
    },
    {
      "cell_type": "code",
      "source": [
        "from pyngrok import ngrok\n",
        "!pkill streamlit"
      ],
      "metadata": {
        "id": "usRPUEi0GQ0A"
      },
      "execution_count": null,
      "outputs": []
    },
    {
      "cell_type": "code",
      "source": [
        "public_url = ngrok.connect(8501)\n",
        "print(f\"🔗 Open your Streamlit Calculator here: {public_url}\")"
      ],
      "metadata": {
        "colab": {
          "base_uri": "https://localhost:8080/"
        },
        "id": "Ef_FB04fGV62",
        "outputId": "a486287b-1dde-425b-daef-8502eb61bb4d"
      },
      "execution_count": null,
      "outputs": [
        {
          "output_type": "stream",
          "name": "stdout",
          "text": [
            "🔗 Open your Streamlit Calculator here: NgrokTunnel: \"https://a8e8-34-45-97-250.ngrok-free.app\" -> \"http://localhost:8501\"\n"
          ]
        }
      ]
    },
    {
      "cell_type": "code",
      "source": [
        "!streamlit run calculator_app.py &>/dev/null &"
      ],
      "metadata": {
        "id": "oJmDIOU5GZ1U"
      },
      "execution_count": null,
      "outputs": []
    }
  ]
}